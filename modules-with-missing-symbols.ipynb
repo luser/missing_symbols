{
 "cells": [
  {
   "cell_type": "code",
   "execution_count": 1,
   "metadata": {
    "collapsed": false
   },
   "outputs": [
    {
     "name": "stdout",
     "output_type": "stream",
     "text": [
      "Cloning into 'missing_symbols'...\n",
      "remote: Counting objects: 35, done.\u001b[K\n",
      "remote: Total 35 (delta 0), reused 0 (delta 0), pack-reused 35\u001b[K\n",
      "Unpacking objects: 100% (35/35), done.\n",
      "Checking connectivity... done.\n",
      "Collecting tabulate\n",
      "  Using cached tabulate-0.7.7-py2.py3-none-any.whl\n",
      "Installing collected packages: tabulate\n",
      "Successfully installed tabulate-0.7.7\n",
      "\u001b[33mYou are using pip version 8.1.2, however version 9.0.1 is available.\n",
      "You should consider upgrading via the 'pip install --upgrade pip' command.\u001b[0m\n"
     ]
    }
   ],
   "source": [
    "!git clone https://github.com/marco-c/missing_symbols.git\n",
    "!pip install tabulate"
   ]
  },
  {
   "cell_type": "code",
   "execution_count": 2,
   "metadata": {
    "collapsed": true
   },
   "outputs": [],
   "source": [
    "import os\n",
    "from datetime import datetime, timedelta\n",
    "from pyspark.sql import functions\n",
    "import boto3\n",
    "from tabulate import tabulate"
   ]
  },
  {
   "cell_type": "code",
   "execution_count": 3,
   "metadata": {
    "collapsed": true
   },
   "outputs": [],
   "source": [
    "known_modules = set([module[:-4].lower() for module in os.listdir('missing_symbols/known_modules')])"
   ]
  },
  {
   "cell_type": "code",
   "execution_count": 4,
   "metadata": {
    "collapsed": true
   },
   "outputs": [],
   "source": [
    "num_days = 3\n",
    "days = [datetime.utcnow().date() - timedelta(1) - timedelta(i) for i in range(0, num_days)]"
   ]
  },
  {
   "cell_type": "code",
   "execution_count": 5,
   "metadata": {
    "collapsed": false
   },
   "outputs": [],
   "source": [
    "dataset = SQLContext(sc).read.load(['s3://telemetry-parquet/socorro_crash/v2/crash_date=' + day.strftime('%Y%m%d') for day in days], 'parquet')"
   ]
  },
  {
   "cell_type": "code",
   "execution_count": 6,
   "metadata": {
    "collapsed": false
   },
   "outputs": [],
   "source": [
    "modules = dataset\\\n",
    ".filter(dataset['product'] == 'Firefox')\\\n",
    ".select(['uuid'] + [functions.explode(dataset['json_dump']['modules']).alias('module')])\\\n",
    ".dropDuplicates(['uuid', 'module'])\\\n",
    ".select(['module'])\\\n",
    ".rdd\\\n",
    ".map(lambda v: v['module'])\\\n",
    ".filter(lambda m: m['missing_symbols'] and m['filename'].lower() not in known_modules)\\\n",
    ".flatMap(lambda m: [((m['filename'], m['version']), 1)])\\\n",
    ".reduceByKey(lambda x, y: x + y)\\\n",
    ".map(lambda v: (v[0][0], [(v[0][1], v[1])]))\\\n",
    ".reduceByKey(lambda x, y: x + y)\\\n",
    ".sortBy(lambda v: sum(count for ver,count in v[1]), ascending=False)\\\n",
    ".collect()"
   ]
  },
  {
   "cell_type": "code",
   "execution_count": 7,
   "metadata": {
    "collapsed": false
   },
   "outputs": [
    {
     "data": {
      "text/plain": [
       "27964"
      ]
     },
     "execution_count": 7,
     "metadata": {},
     "output_type": "execute_result"
    }
   ],
   "source": [
    "len(modules)"
   ]
  },
  {
   "cell_type": "code",
   "execution_count": 8,
   "metadata": {
    "collapsed": false
   },
   "outputs": [],
   "source": [
    "top_missing = sorted([(name, version, count) for name, versions in modules for version, count in versions if count > 2000], key=lambda m: m[2], reverse=True)"
   ]
  },
  {
   "cell_type": "code",
   "execution_count": 9,
   "metadata": {
    "collapsed": false
   },
   "outputs": [
    {
     "data": {
      "text/plain": [
       "[(u'ntdll.dll', 79782),\n",
       " (u'kernel32.dll', 79607),\n",
       " (u'KERNELBASE.dll', 55351),\n",
       " (u'ole32.dll', 50559),\n",
       " (u'msmpeg2vdec.dll', 43341),\n",
       " (u'libsystem_kernel.dylib', 12788),\n",
       " (u'user32.dll', 11580),\n",
       " (u'npCodyyMultiHD.dll', 9285),\n",
       " (u'CodyyConversionCom.dll', 9274),\n",
       " (u'IPCSocket_x86_V5.5_2013.dll', 9274),\n",
       " (u'EMET.dll', 9215),\n",
       " (u'SYSV00000000 (deleted)', 8782),\n",
       " (u'xul.dll', 8053),\n",
       " (u'icudt56.dll', 7146),\n",
       " (u'DropboxExt.16.0.dll', 6906),\n",
       " (u'rpcrt4.dll', 6856),\n",
       " (u'FileSyncShell.dll', 6092),\n",
       " (u'odbcint.dll', 5777),\n",
       " (u'CoreFoundation', 5585),\n",
       " (u'linux-gate.so', 5314),\n",
       " (u'tmmon.dll', 5215),\n",
       " (u'TmUmEvt.dll', 5193),\n",
       " (u'combase.dll', 5041),\n",
       " (u'aetpkss1.dll', 4582),\n",
       " (u'FwcWsp.dll', 4548),\n",
       " (u'xpsp2res.dll', 4321),\n",
       " (u'icudt52.dll', 4282),\n",
       " (u'libdispatch.dylib', 4170),\n",
       " (u'HIToolbox', 4139),\n",
       " (u'l3codecx.ax', 3897),\n",
       " (u'mbae.dll', 3426),\n",
       " (u'nss3.dll', 3358),\n",
       " (u'VideoToolbox', 3344),\n",
       " (u'AppKit', 2957),\n",
       " (u'prochook.dll', 2873),\n",
       " (u'CoreMedia', 2722),\n",
       " (u'eplgFirefox.dll', 2716),\n",
       " (u'WRusr.dll', 2690),\n",
       " (u'SogouPY.ime', 2673),\n",
       " (u'GoogleDesktopNetwork3.dll', 2584),\n",
       " (u'CoreAudio', 2580),\n",
       " (u'eToken.dll', 2565),\n",
       " (u'libpthread-2.19.so', 2470),\n",
       " (u'acpkcs211.dll', 2386),\n",
       " (u'Firefox.exe', 2380),\n",
       " (u'libsystem_pthread.dylib', 2348),\n",
       " (u'libc-2.23.so', 2284),\n",
       " (u'libpthread-2.23.so', 2281),\n",
       " (u'libxul.so', 2159),\n",
       " (u'mf.dll', 2148)]"
      ]
     },
     "execution_count": 9,
     "metadata": {},
     "output_type": "execute_result"
    }
   ],
   "source": [
    "[(module, sum(count for ver, count in versions)) for module, versions in modules[:50]]"
   ]
  },
  {
   "cell_type": "code",
   "execution_count": 10,
   "metadata": {
    "collapsed": false
   },
   "outputs": [
    {
     "data": {
      "text/plain": [
       "'0101015c3f721f2c-5cd00c8d-13f9-45b8-beb6-216b1e075cbd-000000'"
      ]
     },
     "execution_count": 10,
     "metadata": {},
     "output_type": "execute_result"
    }
   ],
   "source": [
    "import boto3\n",
    "\n",
    "subject = 'Weekly report of modules with missing symbols in crash reports'\n",
    "body = tabulate(top_missing, headers=['Name', 'Version', '# of crash reports (*)'])\n",
    "body += \"\"\"\n",
    "\\n\\n(*) The number of crash reports refers to the past 3 days.\n",
    "Only modules with at least 2000 crash reports are shown in this list.\n",
    "\n",
    "If you see modules that shouldn't be in this list as it's expected not\n",
    "to have their symbols, either contact mcastelluccio@mozilla.com or open\n",
    "a PR to add them to https://github.com/marco-c/missing_symbols/tree/master/known_modules.\n",
    "\"\"\"\n",
    "\n",
    "ses = boto3.client('ses')\n",
    "ses.send_email(\n",
    "    Source='telemetry-alerts@mozilla.com',\n",
    "    Destination={\n",
    "        'ToAddresses': ['mcastelluccio@mozilla.com', 'release-mgmt@mozilla.com', 'stability@mozilla.org'],\n",
    "        'CcAddresses': [],\n",
    "    },\n",
    "    Message={\n",
    "        'Subject': {'Data': subject, 'Charset': 'UTF-8'},\n",
    "        'Body': {'Text': {'Data': body, 'Charset': 'UTF-8'}}\n",
    "    }\n",
    ")['MessageId']"
   ]
  },
  {
   "cell_type": "code",
   "execution_count": null,
   "metadata": {
    "collapsed": true
   },
   "outputs": [],
   "source": []
  }
 ],
 "metadata": {
  "anaconda-cloud": {},
  "kernelspec": {
   "display_name": "Python 2",
   "language": "python",
   "name": "python2"
  },
  "language_info": {
   "codemirror_mode": {
    "name": "ipython",
    "version": 2
   },
   "file_extension": ".py",
   "mimetype": "text/x-python",
   "name": "python",
   "nbconvert_exporter": "python",
   "pygments_lexer": "ipython2",
   "version": "2.7.13"
  }
 },
 "nbformat": 4,
 "nbformat_minor": 0
}

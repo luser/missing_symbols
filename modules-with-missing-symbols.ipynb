{
 "cells": [
  {
   "cell_type": "code",
   "execution_count": 1,
   "metadata": {
    "collapsed": false
   },
   "outputs": [
    {
     "name": "stdout",
     "output_type": "stream",
     "text": [
      "Cloning into 'missing_symbols'...\n",
      "remote: Counting objects: 28, done.\u001b[K\n",
      "remote: Compressing objects: 100% (13/13), done.\u001b[K\n",
      "remote: Total 28 (delta 4), reused 27 (delta 3), pack-reused 0\u001b[K\n",
      "Unpacking objects: 100% (28/28), done.\n",
      "Checking connectivity... done.\n"
     ]
    }
   ],
   "source": [
    "!git clone https://github.com/marco-c/missing_symbols.git"
   ]
  },
  {
   "cell_type": "code",
   "execution_count": 2,
   "metadata": {
    "collapsed": true
   },
   "outputs": [],
   "source": [
    "import os\n",
    "from datetime import datetime, timedelta\n",
    "from pyspark.sql import functions"
   ]
  },
  {
   "cell_type": "code",
   "execution_count": 3,
   "metadata": {
    "collapsed": true
   },
   "outputs": [],
   "source": [
    "known_modules = set([module[:-4].lower() for module in os.listdir('missing_symbols/known_modules')])"
   ]
  },
  {
   "cell_type": "code",
   "execution_count": 4,
   "metadata": {
    "collapsed": true
   },
   "outputs": [],
   "source": [
    "num_days = 1\n",
    "days = [datetime.utcnow().date() - timedelta(1) - timedelta(i) for i in range(0, num_days)]"
   ]
  },
  {
   "cell_type": "code",
   "execution_count": 5,
   "metadata": {
    "collapsed": true
   },
   "outputs": [],
   "source": [
    "dataset = SQLContext(sc).read.load(['s3://telemetry-parquet/socorro_crash/v1/crash_date=' + day.strftime('%Y%m%d') for day in days], 'parquet')"
   ]
  },
  {
   "cell_type": "code",
   "execution_count": 6,
   "metadata": {
    "collapsed": false
   },
   "outputs": [],
   "source": [
    "modules = dataset\\\n",
    ".filter(dataset['product'] == 'Firefox')\\\n",
    ".select(functions.explode(dataset['json_dump']['modules']).alias('module')).rdd\\\n",
    ".map(lambda v: v['module'])\\\n",
    ".filter(lambda m: m['missing_symbols'])\\\n",
    ".filter(lambda m: m['filename'].lower() not in known_modules)\\\n",
    ".flatMap(lambda m: [((m['filename'], m['version']), 1)])\\\n",
    ".reduceByKey(lambda x, y: x + y)\\\n",
    ".map(lambda v: (v[0][0], [(v[0][1], v[1])]))\\\n",
    ".reduceByKey(lambda x, y: x + y)\\\n",
    ".sortBy(lambda v: sum(count for ver,count in v[1]), ascending=False)\\\n",
    ".collect()"
   ]
  },
  {
   "cell_type": "code",
   "execution_count": 7,
   "metadata": {
    "collapsed": false
   },
   "outputs": [
    {
     "data": {
      "text/plain": [
       "9891"
      ]
     },
     "execution_count": 7,
     "metadata": {},
     "output_type": "execute_result"
    }
   ],
   "source": [
    "len(modules)"
   ]
  },
  {
   "cell_type": "code",
   "execution_count": 8,
   "metadata": {
    "collapsed": false
   },
   "outputs": [
    {
     "data": {
      "text/plain": [
       "[(u'ntdll.dll', 91158),\n",
       " (u'KERNELBASE.dll', 53253),\n",
       " (u'kernel32.dll', 30999),\n",
       " (u'msmpeg2vdec.dll', 28964),\n",
       " (u'user32.dll', 27328),\n",
       " (u'combase.dll', 15126),\n",
       " (u'libsystem_kernel.dylib', 8754),\n",
       " (u'CoreFoundation', 4365),\n",
       " (u'odbcint.dll', 4184),\n",
       " (u'GdiPlus.dll', 4026),\n",
       " (u'HIToolbox', 3939),\n",
       " (u'libdispatch.dylib', 3851),\n",
       " (u'mf.dll', 3787),\n",
       " (u'rpcrt4.dll', 3638),\n",
       " (u'AppKit', 3590),\n",
       " (u'd3d11.dll', 3325),\n",
       " (u'xul.dll', 3165),\n",
       " (u'libsystem_pthread.dylib', 2994),\n",
       " (u'icudt56.dll', 2869),\n",
       " (u'l3codecx.ax', 2849),\n",
       " (u'd3d9.dll', 2831),\n",
       " (u'wininet.dll', 2742),\n",
       " (u'xpsp2res.dll', 2730),\n",
       " (u'EMET.dll', 2550),\n",
       " (u'icudt52.dll', 2394),\n",
       " (u'linux-gate.so', 1955),\n",
       " (u'NPSWF32_24_0_0_154.dll', 1868),\n",
       " (u'VideoWindow.dll', 1779),\n",
       " (u'DHSurveillanceDll.dll', 1771),\n",
       " (u'dhnetsdk.dll', 1751),\n",
       " (u'iertutil.dll', 1734),\n",
       " (u'msctf.dll', 1728),\n",
       " (u'VideoToolbox', 1698),\n",
       " (u'dhplay.dll', 1696),\n",
       " (u'shell32.dll', 1600),\n",
       " (u'prochook.dll', 1592),\n",
       " (u'aetpkss1.dll', 1483),\n",
       " (u'igdumd32.dll', 1408),\n",
       " (u'DWrite.dll', 1402),\n",
       " (u'tmmon.dll', 1387),\n",
       " (u'TmUmEvt.dll', 1384),\n",
       " (u'atiuxpag.dll', 1368),\n",
       " (u'ucrtbase.dll', 1366),\n",
       " (u'SogouPY.ime', 1351),\n",
       " (u'SYSV00000000 (deleted)', 1297),\n",
       " (u'libobjc.A.dylib', 1277),\n",
       " (u'CoreMedia', 1260),\n",
       " (u'GrooveIntlResource.dll', 1256),\n",
       " (u'timeAxesDll.dll', 1238),\n",
       " (u'npPlugin.dll', 1217)]"
      ]
     },
     "execution_count": 8,
     "metadata": {},
     "output_type": "execute_result"
    }
   ],
   "source": [
    "[(module, sum(count for ver, count in versions)) for module, versions in modules[:50]]"
   ]
  },
  {
   "cell_type": "code",
   "execution_count": null,
   "metadata": {
    "collapsed": true
   },
   "outputs": [],
   "source": []
  }
 ],
 "metadata": {
  "anaconda-cloud": {},
  "kernelspec": {
   "display_name": "Python [default]",
   "language": "python",
   "name": "python2"
  },
  "language_info": {
   "codemirror_mode": {
    "name": "ipython",
    "version": 2
   },
   "file_extension": ".py",
   "mimetype": "text/x-python",
   "name": "python",
   "nbconvert_exporter": "python",
   "pygments_lexer": "ipython2",
   "version": "2.7.12"
  }
 },
 "nbformat": 4,
 "nbformat_minor": 0
}

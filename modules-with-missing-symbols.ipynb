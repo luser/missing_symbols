{
 "cells": [
  {
   "cell_type": "code",
   "execution_count": null,
   "metadata": {
    "collapsed": false
   },
   "outputs": [],
   "source": [
    "!git clone https://github.com/marco-c/missing_symbols.git"
   ]
  },
  {
   "cell_type": "code",
   "execution_count": null,
   "metadata": {
    "collapsed": true
   },
   "outputs": [],
   "source": [
    "import os\n",
    "from datetime import datetime, timedelta\n",
    "from pyspark.sql import functions\n",
    "import boto3"
   ]
  },
  {
   "cell_type": "code",
   "execution_count": null,
   "metadata": {
    "collapsed": true
   },
   "outputs": [],
   "source": [
    "known_modules = set([module[:-4].lower() for module in os.listdir('missing_symbols/known_modules')])"
   ]
  },
  {
   "cell_type": "code",
   "execution_count": null,
   "metadata": {
    "collapsed": true
   },
   "outputs": [],
   "source": [
    "num_days = 3\n",
    "days = [datetime.utcnow().date() - timedelta(1) - timedelta(i) for i in range(0, num_days)]"
   ]
  },
  {
   "cell_type": "code",
   "execution_count": null,
   "metadata": {
    "collapsed": false
   },
   "outputs": [],
   "source": [
    "dataset = SQLContext(sc).read.load(['s3://telemetry-parquet/socorro_crash/v2/crash_date=' + day.strftime('%Y%m%d') for day in days], 'parquet')"
   ]
  },
  {
   "cell_type": "code",
   "execution_count": null,
   "metadata": {
    "collapsed": false
   },
   "outputs": [],
   "source": [
    "modules = dataset\\\n",
    ".filter(dataset['product'] == 'Firefox')\\\n",
    ".select(['uuid'] + [functions.explode(dataset['json_dump']['modules']).alias('module')])\\\n",
    ".dropDuplicates(['uuid', 'module'])\\\n",
    ".select(['module'])\\\n",
    ".rdd\\\n",
    ".map(lambda v: v['module'])\\\n",
    ".filter(lambda m: m['missing_symbols'] and m['filename'].lower() not in known_modules)\\\n",
    ".flatMap(lambda m: [((m['filename'], m['version']), 1)])\\\n",
    ".reduceByKey(lambda x, y: x + y)\\\n",
    ".map(lambda v: (v[0][0], [(v[0][1], v[1])]))\\\n",
    ".reduceByKey(lambda x, y: x + y)\\\n",
    ".sortBy(lambda v: sum(count for ver,count in v[1]), ascending=False)\\\n",
    ".collect()"
   ]
  },
  {
   "cell_type": "code",
   "execution_count": null,
   "metadata": {
    "collapsed": false
   },
   "outputs": [],
   "source": [
    "len(modules)"
   ]
  },
  {
   "cell_type": "code",
   "execution_count": null,
   "metadata": {
    "collapsed": false
   },
   "outputs": [],
   "source": [
    "top_missing = sorted([(name, version, count) for name, versions in modules for version, count in versions if count > 2000], key=lambda m: m[2], reverse=True)"
   ]
  },
  {
   "cell_type": "code",
   "execution_count": null,
   "metadata": {
    "collapsed": false
   },
   "outputs": [],
   "source": [
    "[(module, sum(count for ver, count in versions)) for module, versions in modules[:50]]"
   ]
  },
  {
   "cell_type": "code",
   "execution_count": null,
   "metadata": {
    "collapsed": true
   },
   "outputs": [],
   "source": [
    "with open('missing_symbols/firefox_modules.txt', 'r') as f:\n",
    "    firefox_modules = f.read().split('\\n')[:-1]"
   ]
  },
  {
   "cell_type": "code",
   "execution_count": null,
   "metadata": {
    "collapsed": false
   },
   "outputs": [],
   "source": [
    "import boto3\n",
    "\n",
    "subject = 'Weekly report of modules with missing symbols in crash reports'\n",
    "\n",
    "body = \"\"\"\n",
    "<table style=\"border-collapse:collapse;\">\n",
    "  <tr>\n",
    "  <th style=\"border: 1px solid black;\">Name</th>\n",
    "  <th style=\"border: 1px solid black;\">Version</th>\n",
    "  <th style=\"border: 1px solid black;\"># of crash reports (*)</th>\n",
    "</tr>\n",
    "\"\"\"\n",
    "for name, version, count in top_missing:\n",
    "    body += '<tr>'\n",
    "    body += '<td style=\"border: 1px solid black;\">'\n",
    "    if name in firefox_modules:\n",
    "        body += '<span style=\"color:red;\">%s</span>' % name\n",
    "    else:\n",
    "        body += name\n",
    "    body += '</td>'\n",
    "    body += '<td style=\"border: 1px solid black;\">%s</td>' % version\n",
    "    body += '<td style=\"border: 1px solid black;\">%d</td>' % count\n",
    "    body += '</tr>'\n",
    "body += '</table>'\n",
    "\n",
    "body += \"\"\"\n",
    "\\n\\n(*) The number of crash reports refers to the past 3 days.\n",
    "Only modules with at least 2000 crash reports are shown in this list.\n",
    "\n",
    "If you see modules that shouldn't be in this list as it's expected not\n",
    "to have their symbols, either contact mcastelluccio@mozilla.com or open\n",
    "a PR to add them to https://github.com/marco-c/missing_symbols/tree/master/known_modules.\n",
    "\"\"\"\n",
    "\n",
    "ses = boto3.client('ses')\n",
    "ses.send_email(\n",
    "    Source='telemetry-alerts@mozilla.com',\n",
    "    Destination={\n",
    "        'ToAddresses': ['mcastelluccio@mozilla.com', 'release-mgmt@mozilla.com', 'stability@mozilla.org'],\n",
    "        'CcAddresses': [],\n",
    "    },\n",
    "    Message={\n",
    "        'Subject': {'Data': subject, 'Charset': 'UTF-8'},\n",
    "        'Body': {'Html': {'Data': body, 'Charset': 'UTF-8'}}\n",
    "    }\n",
    ")['MessageId']"
   ]
  },
  {
   "cell_type": "code",
   "execution_count": null,
   "metadata": {
    "collapsed": true
   },
   "outputs": [],
   "source": []
  }
 ],
 "metadata": {
  "anaconda-cloud": {},
  "kernelspec": {
   "display_name": "Python 2",
   "language": "python",
   "name": "python2"
  },
  "language_info": {
   "codemirror_mode": {
    "name": "ipython",
    "version": 2
   },
   "file_extension": ".py",
   "mimetype": "text/x-python",
   "name": "python",
   "nbconvert_exporter": "python",
   "pygments_lexer": "ipython2",
   "version": "2.7.13"
  }
 },
 "nbformat": 4,
 "nbformat_minor": 0
}

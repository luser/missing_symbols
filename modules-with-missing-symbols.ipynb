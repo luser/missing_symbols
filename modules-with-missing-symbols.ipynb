{
 "cells": [
  {
   "cell_type": "code",
   "execution_count": 1,
   "metadata": {
    "collapsed": true
   },
   "outputs": [],
   "source": [
    "from datetime import datetime, timedelta\n",
    "from pyspark.sql import functions"
   ]
  },
  {
   "cell_type": "code",
   "execution_count": 2,
   "metadata": {
    "collapsed": true
   },
   "outputs": [],
   "source": [
    "num_days = 1\n",
    "days = [datetime.utcnow().date() - timedelta(1) - timedelta(i) for i in range(0, num_days)]"
   ]
  },
  {
   "cell_type": "code",
   "execution_count": 3,
   "metadata": {
    "collapsed": true
   },
   "outputs": [],
   "source": [
    "dataset = SQLContext(sc).read.load(['s3://telemetry-parquet/socorro_crash/v1/crash_date=' + day.strftime('%Y%m%d') for day in days], 'parquet')"
   ]
  },
  {
   "cell_type": "code",
   "execution_count": 4,
   "metadata": {
    "collapsed": false
   },
   "outputs": [],
   "source": [
    "modules = dataset\\\n",
    ".filter(dataset['product'] == 'Firefox')\\\n",
    ".select(functions.explode(dataset['json_dump']['modules']).alias('module')).rdd\\\n",
    ".map(lambda v: v['module'])\\\n",
    ".filter(lambda m: m['missing_symbols'])\\\n",
    ".flatMap(lambda m: [((m['filename'], m['version']), 1)])\\\n",
    ".reduceByKey(lambda x, y: x + y)\\\n",
    ".sortBy(lambda v: v[1], ascending=False)\\\n",
    ".collect()"
   ]
  },
  {
   "cell_type": "code",
   "execution_count": 5,
   "metadata": {
    "collapsed": false
   },
   "outputs": [
    {
     "data": {
      "text/plain": [
       "22785"
      ]
     },
     "execution_count": 5,
     "metadata": {},
     "output_type": "execute_result"
    }
   ],
   "source": [
    "len(modules)"
   ]
  },
  {
   "cell_type": "code",
   "execution_count": 7,
   "metadata": {
    "collapsed": false
   },
   "outputs": [
    {
     "data": {
      "text/plain": [
       "[((u'ntdll.dll', u'6.1.7601.23569'), 35215),\n",
       " ((u'ntdll.dll', u'10.0.14393.447'), 32694),\n",
       " ((u'KERNELBASE.dll', u'10.0.14393.321'), 30611),\n",
       " ((u'user32.dll', u'10.0.14393.351'), 25864),\n",
       " ((u'kernel32.dll', u'6.1.7601.23569'), 20858),\n",
       " ((u'msmpeg2vdec.dll', u'12.0.9200.17037'), 13971),\n",
       " ((u'ntdll.dll', u'6.1.7601.23543'), 13490),\n",
       " ((u'combase.dll', u'10.0.14393.351'), 12682),\n",
       " ((u'KERNELBASE.dll', u'6.1.7601.23569'), 12610),\n",
       " ((u'IPSEng32.dll', u'15.2.4.5'), 9453),\n",
       " ((u'kernel32.dll', u'6.1.7601.23543'), 8034),\n",
       " ((u'msmpeg2vdec.dll', u'10.0.14393.187'), 6464),\n",
       " ((u'inproc_agent.dll', u'4.6.1.201'), 4985),\n",
       " ((u'IPSEng32.dll', u'15.2.3.14'), 4940),\n",
       " ((u'libsystem_kernel.dylib', u''), 4761),\n",
       " ((u'atidxx32.dll', u'8.17.10.625'), 4694),\n",
       " ((u'jvm.dll', u'24.51.0.3'), 4573),\n",
       " ((u'npjp2.dll', u'10.51.2.13'), 4570),\n",
       " ((u'KERNELBASE.dll', u'6.1.7601.23543'), 4552),\n",
       " ((u'rooksbas.dll', u'3.2.0.1'), 4134),\n",
       " ((u'ntdll.dll', u'10.0.10586.672'), 3723),\n",
       " ((u'LavasoftTcpService.dll', u'2.3.4.7'), 3637),\n",
       " ((u'd3d11.dll', u'10.0.14393.351'), 3226),\n",
       " ((u'RapportUtil.dll', u'3.5.1609.103'), 3209),\n",
       " ((u'RapportGP.DLL', u'3.5.1609.103'), 3190),\n",
       " ((u'java.dll', u'7.0.510.13'), 2995),\n",
       " ((u'jp2native.dll', u'10.51.2.13'), 2974),\n",
       " ((u'KERNELBASE.dll', u'10.0.10586.672'), 2901),\n",
       " ((u'icudt56.dll', u'56.1.0.0'), 2868),\n",
       " ((u'DropboxExt.3.0.dll', u'1.0.3.0'), 2764)]"
      ]
     },
     "execution_count": 7,
     "metadata": {},
     "output_type": "execute_result"
    }
   ],
   "source": [
    "modules[:30]"
   ]
  },
  {
   "cell_type": "code",
   "execution_count": null,
   "metadata": {
    "collapsed": true
   },
   "outputs": [],
   "source": []
  }
 ],
 "metadata": {
  "anaconda-cloud": {},
  "kernelspec": {
   "display_name": "Python [default]",
   "language": "python",
   "name": "python2"
  },
  "language_info": {
   "codemirror_mode": {
    "name": "ipython",
    "version": 2
   },
   "file_extension": ".py",
   "mimetype": "text/x-python",
   "name": "python",
   "nbconvert_exporter": "python",
   "pygments_lexer": "ipython2",
   "version": "2.7.12"
  }
 },
 "nbformat": 4,
 "nbformat_minor": 0
}
